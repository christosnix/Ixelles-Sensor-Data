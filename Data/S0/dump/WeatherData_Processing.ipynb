{
 "cells": [
  {
   "cell_type": "code",
   "execution_count": 4,
   "metadata": {},
   "outputs": [],
   "source": [
    "%reset -f\n",
    "#\n",
    "import numpy as np\n",
    "import pandas as pd\n",
    "import matplotlib as mpl\n",
    "import matplotlib.pyplot as plt\n",
    "#\n",
    "# Settings\n",
    "pd.options.mode.chained_assignment = None; \n",
    "%config InlineBackend.figure_format = 'svg'; mpl.rc('figure', dpi=300); \n",
    "plt.rcParams.update({'font.family':'STIXGeneral','mathtext.fontset':'stix'}); \n",
    "#\n",
    "# Read in the data\n",
    "sensor_data = pd.read_csv('S0_2023_06-2024_1.csv'); \n",
    "sensor_data['timestamp'] = pd.to_datetime(sensor_data['timestamp']); \n",
    "#\n",
    "# Rename the columns\n",
    "sensor_data.rename(columns={'ambient_pressure':'pressure', 'air_temperature':'temperature' , 'NO':'no' , 'NO2':'no2', 'PM2.5':'pm25', 'PM10':'pm10', 'O3':'o3'}, inplace=True)\n",
    "# Drop StdDev columns\n",
    "sensor_data.drop(columns=['NOStdDev', 'NO2StdDev', 'O3StdDev'], inplace=True)\n",
    "# Rearrange the columns\n",
    "sensor_data = sensor_data[['timestamp', 'wind_speed', 'wind_direction', 'temperature', 'pressure', 'relative_humidity', 'no', 'no2', 'pm25', 'pm10', 'o3']]\n",
    "# Convert NO, NO2 and O3 from ppb to ug/m3\n",
    "sensor_data['no'] = sensor_data['no'] * 1.23\n",
    "sensor_data['no2'] = sensor_data['no2'] * 1.88\n",
    "sensor_data['o3'] = sensor_data['o3'] * 1.96\n",
    "# Replace nan values with -9999\n",
    "sensor_data = sensor_data.fillna(-9999)\n",
    "#\n",
    "years = sensor_data['timestamp'][:].dt.year.unique()\n",
    "months = sensor_data['timestamp'][:].dt.month.unique()\n",
    "#\n",
    "sensor_data['year'] = sensor_data['timestamp'][:].dt.year\n",
    "sensor_data['month'] = sensor_data['timestamp'][:].dt.month\n",
    "#\n",
    "for m in range(0, len(years)):\n",
    "    for n in range(0, len(months)):\n",
    "        if len(sensor_data.loc[(sensor_data['year'] == years[m]) & (sensor_data['month'] == months[n])]) > 0:\n",
    "            exec('S0' + '_' + str(years[m]) + '_' + str(months[n]).zfill(2) + ' = sensor_data.loc[(sensor_data[\"year\"] == years[m]) & (sensor_data[\"month\"] == months[n])]')\n",
    "            exec('S0' + '_' + str(years[m]) + '_' + str(months[n]).zfill(2) + '.drop(columns=[\"year\", \"month\"], inplace=True)')\n",
    "            exec('S0' + '_' + str(years[m]) + '_' + str(months[n]).zfill(2) + '.to_csv(\"../S0' + '_' + str(years[m]) + '_' + str(months[n]).zfill(2) + '.csv\", index=False)')\n",
    "            exec('del S0' + '_' + str(years[m]) + '_' + str(months[n]).zfill(2))\n",
    "#"
   ]
  }
 ],
 "metadata": {
  "kernelspec": {
   "display_name": "Python 3.10.8 64-bit",
   "language": "python",
   "name": "python3"
  },
  "language_info": {
   "codemirror_mode": {
    "name": "ipython",
    "version": 3
   },
   "file_extension": ".py",
   "mimetype": "text/x-python",
   "name": "python",
   "nbconvert_exporter": "python",
   "pygments_lexer": "ipython3",
   "version": "3.11.3"
  },
  "orig_nbformat": 4,
  "vscode": {
   "interpreter": {
    "hash": "b0fa6594d8f4cbf19f97940f81e996739fb7646882a419484c72d19e05852a7e"
   }
  }
 },
 "nbformat": 4,
 "nbformat_minor": 2
}
