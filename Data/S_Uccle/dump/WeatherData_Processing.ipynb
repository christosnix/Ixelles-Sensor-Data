{
 "cells": [
  {
   "cell_type": "code",
   "execution_count": 4,
   "metadata": {},
   "outputs": [],
   "source": [
    "%reset -f\n",
    "#\n",
    "import numpy as np\n",
    "import pandas as pd\n",
    "import matplotlib as mpl\n",
    "import matplotlib.pyplot as plt\n",
    "#\n",
    "# Settings\n",
    "pd.options.mode.chained_assignment = None; \n",
    "%config InlineBackend.figure_format = 'svg'; mpl.rc('figure', dpi=300); \n",
    "plt.rcParams.update({'font.family':'STIXGeneral','mathtext.fontset':'stix'}); \n",
    "#\n",
    "# Read in the data\n",
    "sensor_data = pd.read_csv('Uccle_Weather_Data.csv'); sensor_data['timestamp'] = pd.to_datetime(sensor_data['timestamp']); \n",
    "#\n",
    "years = sensor_data['timestamp'][:].dt.year.unique()\n",
    "months = sensor_data['timestamp'][:].dt.month.unique()\n",
    "#\n",
    "sensor_data['year'] = sensor_data['timestamp'][:].dt.year\n",
    "sensor_data['month'] = sensor_data['timestamp'][:].dt.month\n",
    "#\n",
    "for m in range(0, len(years)):\n",
    "    for n in range(0, len(months)):\n",
    "        if len(sensor_data.loc[(sensor_data['year'] == years[m]) & (sensor_data['month'] == months[n])]) > 0:\n",
    "            exec('SU' + '_' + str(years[m]) + '_' + str(months[n]).zfill(2) + ' = sensor_data.loc[(sensor_data[\"year\"] == years[m]) & (sensor_data[\"month\"] == months[n])]')\n",
    "            exec('SU' + '_' + str(years[m]) + '_' + str(months[n]).zfill(2) + '.drop(columns=[\"year\", \"month\"], inplace=True)')\n",
    "            exec('SU' + '_' + str(years[m]) + '_' + str(months[n]).zfill(2) + '.to_csv(\"../SU' + '_' + str(years[m]) + '_' + str(months[n]).zfill(2) + '.csv\", index=False)')\n",
    "            exec('del SU' + '_' + str(years[m]) + '_' + str(months[n]).zfill(2))\n",
    "#"
   ]
  }
 ],
 "metadata": {
  "kernelspec": {
   "display_name": "Python 3.10.8 64-bit",
   "language": "python",
   "name": "python3"
  },
  "language_info": {
   "codemirror_mode": {
    "name": "ipython",
    "version": 3
   },
   "file_extension": ".py",
   "mimetype": "text/x-python",
   "name": "python",
   "nbconvert_exporter": "python",
   "pygments_lexer": "ipython3",
   "version": "3.11.3"
  },
  "orig_nbformat": 4,
  "vscode": {
   "interpreter": {
    "hash": "b0fa6594d8f4cbf19f97940f81e996739fb7646882a419484c72d19e05852a7e"
   }
  }
 },
 "nbformat": 4,
 "nbformat_minor": 2
}
