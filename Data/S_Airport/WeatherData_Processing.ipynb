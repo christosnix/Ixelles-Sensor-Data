{
 "cells": [
  {
   "cell_type": "code",
   "execution_count": 56,
   "metadata": {},
   "outputs": [],
   "source": [
    "%reset -f\n",
    "#\n",
    "import numpy as np\n",
    "import pandas as pd\n",
    "import matplotlib as mpl\n",
    "import matplotlib.pyplot as plt\n",
    "#\n",
    "# Settings\n",
    "pd.options.mode.chained_assignment = None; \n",
    "%config InlineBackend.figure_format = 'svg'; mpl.rc('figure', dpi=300); \n",
    "plt.rcParams.update({'font.family':'STIXGeneral','mathtext.fontset':'stix'}); \n",
    "#\n",
    "# Read in the data\n",
    "sensor_data = pd.read_csv('dump/EBBR.csv'); \n",
    "#\n",
    "sensor_data['timestamp'] = pd.to_datetime(sensor_data['valid']); \n",
    "sensor_data.drop(columns=['valid', 'station'], inplace=True);\n",
    "#\n",
    "# Rename columns\n",
    "sensor_data.rename(columns={'tmpc':'temperature', 'relh':'relative_humidity', 'drct':'wind_direction', 'spedm_s':'wind_speed'}, inplace=True);\n",
    "# Rearrange columns\n",
    "sensor_data = sensor_data[['timestamp', 'temperature']]; \n",
    "#\n",
    "# Resample data to daily averages\n",
    "sensor_data.set_index('timestamp', inplace=True);\n",
    "sensor_data = sensor_data.resample('H').mean();\n",
    "#\n",
    "# Keep only data from August 2022 to August 2023\n",
    "sensor_data = sensor_data.loc['2022-08-18':'2023-08-17'];\n",
    "#\n",
    "# thresholds = np.arange(10, 18.5, 0.5);\n",
    "# nix = np.zeros(len(thresholds));\n",
    "# gabbie = np.zeros(len(thresholds));\n",
    "# for i in range(len(thresholds)):\n",
    "#     sensor_data['heating'] = np.where(sensor_data['temperature'] < thresholds[i], 1, 0);\n",
    "#     sensor_data['heating'] = sensor_data['heating']*(thresholds[i] - sensor_data['temperature'])+3;\n",
    "#     nix[i] = sensor_data.loc['2022-08-01':'2023-02-28', 'heating'].sum()/sensor_data['heating'].sum();\n",
    "#     gabbie[i] = sensor_data.loc['2023-03-01':'2023-09-01', 'heating'].sum()/sensor_data['heating'].sum();\n",
    "#     #\n",
    "# #\n",
    "# # create dataframe\n",
    "# df = pd.DataFrame({'thresholds': thresholds, 'nix': nix, 'gabbie': gabbie});\n",
    "# #\n",
    "# # Plot\n",
    "# fig, ax = plt.subplots(figsize=(6, 4));\n",
    "# ax.plot(df['thresholds'], df['nix'], color='tab:blue', label='Nix');\n",
    "# ax.plot(df['thresholds'], df['gabbie'], color='tab:red', label='Gabbie');\n",
    "# ax.set_xlabel('Threshold temperature [°C]');\n",
    "# ax.set_ylabel('Fraction of heating days');\n",
    "#\n",
    "# Add heating points\n",
    "Threshold = 16; \n",
    "sensor_data['heating'] = np.where(sensor_data['temperature'] < Threshold, 1, 0);\n",
    "sensor_data['heating'] = sensor_data['heating']*(Threshold - sensor_data['temperature'])+3;\n",
    "# Calculate the percentage of heating points before and after the 28th of February\n",
    "nix = sensor_data.loc['2022-08-01':'2023-02-28', 'heating'].sum()/sensor_data['heating'].sum();\n",
    "gabbie = sensor_data.loc['2023-03-01':'2023-09-01', 'heating'].sum()/sensor_data['heating'].sum();\n",
    "#"
   ]
  },
  {
   "cell_type": "code",
   "execution_count": 55,
   "metadata": {},
   "outputs": [],
   "source": [
    "\n",
    "# # Plot\n",
    "# plt.plot(sensor_data.index, sensor_data['temperature'], color='k', lw=1);\n",
    "# # Set axis limits and ticks and labels\n",
    "# plt.xlim(sensor_data.index[0], sensor_data.index[-1]);\n",
    "# # set ticks every month\n",
    "# plt.gca().xaxis.set_major_locator(mpl.dates.MonthLocator());\n",
    "# plt.xticks(rotation=45, ha='right', size=12)\n",
    "# plt.yticks(size=12);\n",
    "# # set labels\n",
    "# plt.xlabel('Date');\n",
    "# plt.ylabel('Temperature (°C)');\n",
    "# #\n",
    "# # plot a vertical line at the 28th of February and a horizontal line at the threshold\n",
    "# plt.axvline(x=pd.to_datetime('2023-02-28'), color='r', linestyle='-', lw=2)\n",
    "# plt.axhline(y=Threshold, color='b', linestyle='--', lw=2)\n",
    "# #\n",
    "# # plot the text before and after the 28th of February\n",
    "# plt.text(pd.to_datetime('2023-03-01'), 25, str(nix)+'    ', size=12, color='r', ha='right')\n",
    "# plt.text(pd.to_datetime('2023-03-01'), 25, '    '+str(gabbie), size=12, color='r', ha='left')\n",
    " \n",
    "\n",
    "# # plot a horizontal line at the threshold\n"
   ]
  }
 ],
 "metadata": {
  "kernelspec": {
   "display_name": "Python 3.10.8 64-bit",
   "language": "python",
   "name": "python3"
  },
  "language_info": {
   "codemirror_mode": {
    "name": "ipython",
    "version": 3
   },
   "file_extension": ".py",
   "mimetype": "text/x-python",
   "name": "python",
   "nbconvert_exporter": "python",
   "pygments_lexer": "ipython3",
   "version": "3.11.3"
  },
  "orig_nbformat": 4,
  "vscode": {
   "interpreter": {
    "hash": "b0fa6594d8f4cbf19f97940f81e996739fb7646882a419484c72d19e05852a7e"
   }
  }
 },
 "nbformat": 4,
 "nbformat_minor": 2
}
